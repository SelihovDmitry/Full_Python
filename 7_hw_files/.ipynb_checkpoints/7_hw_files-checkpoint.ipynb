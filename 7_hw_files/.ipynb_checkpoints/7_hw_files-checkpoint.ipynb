{
 "cells": [
  {
   "cell_type": "markdown",
   "metadata": {},
   "source": [
    "## Домашнее задание к лекции «Открытие и чтение файла, запись в файл»\n",
    "https://github.com/netology-code/py-homeworks-basic/tree/master/7.files"
   ]
  },
  {
   "cell_type": "markdown",
   "metadata": {},
   "source": [
    "### Задание 1"
   ]
  },
  {
   "cell_type": "code",
   "execution_count": 1,
   "metadata": {},
   "outputs": [
    {
     "data": {
      "text/plain": [
       "{'Омлет': [{'ingredient_name': 'Яйцо', 'quantity': 2, 'measure': 'шт'},\n",
       "  {'ingredient_name': 'Молоко', 'quantity': 100, 'measure': 'мл'},\n",
       "  {'ingredient_name': 'Помидор', 'quantity': 2, 'measure': 'шт'}],\n",
       " 'Утка по-пекински': [{'ingredient_name': 'Утка',\n",
       "   'quantity': 1,\n",
       "   'measure': 'шт'},\n",
       "  {'ingredient_name': 'Вода', 'quantity': 2, 'measure': 'л'},\n",
       "  {'ingredient_name': 'Мед', 'quantity': 3, 'measure': 'ст.л'},\n",
       "  {'ingredient_name': 'Соевый соус', 'quantity': 60, 'measure': 'мл'}],\n",
       " 'Запеченный картофель': [{'ingredient_name': 'Картофель',\n",
       "   'quantity': 1,\n",
       "   'measure': 'кг'},\n",
       "  {'ingredient_name': 'Чеснок', 'quantity': 3, 'measure': 'зубч'},\n",
       "  {'ingredient_name': 'Сыр гауда', 'quantity': 100, 'measure': 'г'}],\n",
       " 'Фахитос': [{'ingredient_name': 'Говядина', 'quantity': 500, 'measure': 'г'},\n",
       "  {'ingredient_name': 'Перец сладкий', 'quantity': 1, 'measure': 'шт'},\n",
       "  {'ingredient_name': 'Лаваш', 'quantity': 2, 'measure': 'шт'},\n",
       "  {'ingredient_name': 'Винный уксус', 'quantity': 1, 'measure': 'ст.л'},\n",
       "  {'ingredient_name': 'Помидор', 'quantity': 2, 'measure': 'шт'}]}"
      ]
     },
     "execution_count": 1,
     "metadata": {},
     "output_type": "execute_result"
    }
   ],
   "source": [
    "def make_dict_cook_book(file):\n",
    "    res = {}\n",
    "    with open(file, 'r') as f:\n",
    "        for line in f:\n",
    "            dishes = []\n",
    "            dish = line.strip()\n",
    "            ingr_count = int(f.readline())\n",
    "            for i in range(ingr_count):\n",
    "                ingredient_name, quantity, measure = f.readline().strip().split(' | ')\n",
    "                quantity = int(quantity)\n",
    "                dishes.append({\n",
    "                   'ingredient_name': ingredient_name,\n",
    "                    'quantity': quantity,\n",
    "                    'measure': measure\n",
    "                })\n",
    "            f.readline()\n",
    "            res[dish] = dishes\n",
    "    return res\n",
    "    \n",
    "make_dict_cook_book('recipes.txt')"
   ]
  },
  {
   "cell_type": "markdown",
   "metadata": {},
   "source": [
    "### Задание 2"
   ]
  },
  {
   "cell_type": "code",
   "execution_count": 48,
   "metadata": {},
   "outputs": [
    {
     "data": {
      "text/plain": [
       "{'Говядина': {'measure': 'г', 'quantity': 1000},\n",
       " 'Перец сладкий': {'measure': 'шт', 'quantity': 2},\n",
       " 'Лаваш': {'measure': 'шт', 'quantity': 4},\n",
       " 'Винный уксус': {'measure': 'ст.л', 'quantity': 2},\n",
       " 'Помидор': {'measure': 'шт', 'quantity': 8},\n",
       " 'Яйцо': {'measure': 'шт', 'quantity': 4},\n",
       " 'Молоко': {'measure': 'мл', 'quantity': 200}}"
      ]
     },
     "execution_count": 48,
     "metadata": {},
     "output_type": "execute_result"
    }
   ],
   "source": [
    "def get_shop_list_by_dishes(dishes, person_count):\n",
    "    cook_book = make_dict_cook_book('recipes.txt')\n",
    "    shopping_list = {}\n",
    "    for dish in dishes:\n",
    "        for ingredient in cook_book[dish]:\n",
    "            if ingredient['ingredient_name'] in shopping_list: # проверяем, есть ли ингидиент в резутирующем словаре\n",
    "                shopping_list[ingredient['ingredient_name']]['quantity'] += ingredient['quantity'] * person_count\n",
    "            else:\n",
    "                shopping_list[ingredient['ingredient_name']] = {'measure': ingredient['measure'], 'quantity': ingredient['quantity'] * person_count}\n",
    "    return shopping_list\n",
    "    \n",
    "get_shop_list_by_dishes(['Фахитос', 'Омлет'], 2) # для проверки, т.к. и там и там помидоры, чтобы они складывались"
   ]
  },
  {
   "cell_type": "markdown",
   "metadata": {},
   "source": [
    "## Задача 3"
   ]
  },
  {
   "cell_type": "code",
   "execution_count": 97,
   "metadata": {},
   "outputs": [],
   "source": [
    "def sort_and_concat_files(files):\n",
    "    len_files = {} # создаем словарь, где ключем будет имя файла, а значением - кол-во строк\n",
    "    for file in files:\n",
    "        with open(file, 'r') as f:\n",
    "            cnt = 0\n",
    "            for line in f:\n",
    "                cnt += 1\n",
    "        len_files[file] = cnt\n",
    "    # создадим отсортированный по значению словарь\n",
    "    sorted_tuples = sorted(len_files.items(), key=lambda item: item[1])\n",
    "    sorted_len_files = {k: v for k, v in sorted_tuples}\n",
    "    \n",
    "    # создаем результирующий файл\n",
    "    with open('result.txt', 'w') as fres:\n",
    "        for k, v in sorted_len_files.items():\n",
    "            fres.write(k + '\\n')\n",
    "            fres.write(str(v) + '\\n')\n",
    "            with open(k, 'r') as fread:\n",
    "                text = fread.read()\n",
    "                fres.write(text + '\\n')\n",
    "    \n",
    "    \n",
    "sort_and_concat_files(['1.txt', '2.txt', '3.txt'])"
   ]
  }
 ],
 "metadata": {
  "kernelspec": {
   "display_name": "Python 3",
   "language": "python",
   "name": "python3"
  },
  "language_info": {
   "codemirror_mode": {
    "name": "ipython",
    "version": 3
   },
   "file_extension": ".py",
   "mimetype": "text/x-python",
   "name": "python",
   "nbconvert_exporter": "python",
   "pygments_lexer": "ipython3",
   "version": "3.8.5"
  }
 },
 "nbformat": 4,
 "nbformat_minor": 4
}
