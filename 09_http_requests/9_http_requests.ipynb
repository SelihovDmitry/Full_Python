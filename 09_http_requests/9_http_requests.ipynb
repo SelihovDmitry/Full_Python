{
 "cells": [
  {
   "cell_type": "markdown",
   "metadata": {},
   "source": [
    "## Домашнее задание к лекции 8.«Работа с библиотекой requests, http-запросы»\n",
    "\n",
    "https://github.com/netology-code/py-homeworks-basic/tree/master/9.http.requests"
   ]
  },
  {
   "cell_type": "code",
   "execution_count": 9,
   "metadata": {},
   "outputs": [],
   "source": [
    "import requests\n",
    "from pprint import pprint\n",
    "from collections import Counter"
   ]
  },
  {
   "cell_type": "markdown",
   "metadata": {},
   "source": [
    "### Задача 1"
   ]
  },
  {
   "cell_type": "code",
   "execution_count": 10,
   "metadata": {},
   "outputs": [
    {
     "name": "stdout",
     "output_type": "stream",
     "text": [
      "Самый умный супергерой Thanos, его уровень intelligence = 100\n"
     ]
    }
   ],
   "source": [
    "def smartest_hero(heroes): # получаем список героев из которых надо выбрать самого умного (intelligence)\n",
    "    hero_intelligense = {}\n",
    "    url = 'https://akabab.github.io/superhero-api/api/all.json'\n",
    "    response = requests.get(url)\n",
    "    data = response.json()\n",
    "    for hero in data: \n",
    "        if hero['name'] in heroes:\n",
    "            hero_intelligense[hero['name']] = hero['powerstats']['intelligence']\n",
    "    smartest = max(hero_intelligense)\n",
    "    print(f'Самый умный супергерой {smartest}, его уровень intelligence = {hero_intelligense[smartest]}')\n",
    "    return smartest\n",
    "    \n",
    "if __name__ == '__main__':\n",
    "    smartest_hero(['Hulk', 'Captain America', 'Thanos'])"
   ]
  },
  {
   "cell_type": "markdown",
   "metadata": {},
   "source": [
    "### Задача 2"
   ]
  },
  {
   "cell_type": "code",
   "execution_count": 14,
   "metadata": {},
   "outputs": [
    {
     "name": "stdout",
     "output_type": "stream",
     "text": [
      "Success\n",
      "None\n"
     ]
    }
   ],
   "source": [
    "class YaUploader:\n",
    "    def __init__(self, token: str):\n",
    "        self.token = token\n",
    "        \n",
    "    def get_headers(self):\n",
    "        return {\n",
    "            'Content-Type': 'application/json',\n",
    "            'Authorization': 'OAuth {}'.format(self.token)\n",
    "        }\n",
    "    \n",
    "    def _get_upload_link(self, disk_file_path):\n",
    "        upload_url = 'https://cloud-api.yandex.net/v1/disk/resources/upload'\n",
    "        headers = self.get_headers()\n",
    "        params = {'path': disk_file_path, 'overwrite': 'True'}\n",
    "        response = requests.get(upload_url, headers=headers, params=params)\n",
    "        return response.json()['href']\n",
    "    \n",
    "    def upload(self, disk_file_path, filename):\n",
    "        \"\"\"Метод загружает файл на яндекс диск\"\"\"\n",
    "        url = self._get_upload_link(disk_file_path)\n",
    "        response = requests.put(url, data=open(filename, 'rb'))\n",
    "        response.raise_for_status()\n",
    "        if response.status_code == 201:\n",
    "            print(\"Success\")\n",
    "        \n",
    "\n",
    "if __name__ == \"__main__\":\n",
    "    path_to_file = 'requests.txt'\n",
    "    token = 'y0_AgAAAAAQtIt5AADLWwAAAADa9jwVLTJpiUPuR4GXEDocwo8rSRU0C8Y'\n",
    "    uploader = YaUploader(token)\n",
    "    result = uploader.upload(disk_file_path='Netology/requests.txt',\n",
    "                            filename=path_to_file)\n",
    "    pprint(result)"
   ]
  }
 ],
 "metadata": {
  "kernelspec": {
   "display_name": "Python 3",
   "language": "python",
   "name": "python3"
  },
  "language_info": {
   "codemirror_mode": {
    "name": "ipython",
    "version": 3
   },
   "file_extension": ".py",
   "mimetype": "text/x-python",
   "name": "python",
   "nbconvert_exporter": "python",
   "pygments_lexer": "ipython3",
   "version": "3.8.5"
  }
 },
 "nbformat": 4,
 "nbformat_minor": 4
}
